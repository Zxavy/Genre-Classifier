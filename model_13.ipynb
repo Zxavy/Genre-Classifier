{
 "cells": [
  {
   "cell_type": "code",
   "execution_count": 1,
   "id": "88c486a1",
   "metadata": {},
   "outputs": [],
   "source": [
    "import json\n",
    "import numpy as np\n",
    "from sklearn.model_selection import train_test_split\n",
    "import tensorflow.keras as keras\n",
    "\n",
    "import matplotlib.pyplot as plt\n",
    "import random\n",
    "\n",
    "import librosa\n",
    "import math"
   ]
  },
  {
   "cell_type": "code",
   "execution_count": 2,
   "id": "2d9d2ff8",
   "metadata": {},
   "outputs": [],
   "source": [
    "# path to json\n",
    "data_path = \"C:\\\\Users\\\\Saad\\\\Desktop\\\\Project\\\\MGC\\\\Data\\\\data.json\""
   ]
  },
  {
   "cell_type": "code",
   "execution_count": 3,
   "id": "f111b219",
   "metadata": {},
   "outputs": [],
   "source": [
    "def load_data(data_path):\n",
    "\n",
    "    with open(data_path, \"r\") as f:\n",
    "        data = json.load(f)\n",
    "\n",
    "    # convert lists to numpy arrays\n",
    "    X = np.array(data[\"mfcc\"])\n",
    "    y = np.array(data[\"labels\"])\n",
    "\n",
    "    print(\"No Problems, go ahead!\")\n",
    "\n",
    "    return  X, y"
   ]
  },
  {
   "cell_type": "code",
   "execution_count": 5,
   "id": "10fc9b0b",
   "metadata": {},
   "outputs": [
    {
     "name": "stdout",
     "output_type": "stream",
     "text": [
      "No Problems, go ahead!\n"
     ]
    }
   ],
   "source": [
    "# load data\n",
    "X, y = load_data(data_path)"
   ]
  },
  {
   "cell_type": "code",
   "execution_count": 6,
   "id": "160d1e28",
   "metadata": {},
   "outputs": [
    {
     "data": {
      "text/plain": [
       "(8996, 130, 13)"
      ]
     },
     "execution_count": 6,
     "metadata": {},
     "output_type": "execute_result"
    }
   ],
   "source": [
    "X.shape"
   ]
  },
  {
   "cell_type": "markdown",
   "id": "40f65eb7",
   "metadata": {},
   "source": [
    "## ANN"
   ]
  },
  {
   "cell_type": "code",
   "execution_count": 7,
   "id": "d025df8f",
   "metadata": {},
   "outputs": [],
   "source": [
    "X_train, X_test, y_train, y_test = train_test_split(X, y, test_size=0.3)"
   ]
  },
  {
   "cell_type": "code",
   "execution_count": 8,
   "id": "3251b46c",
   "metadata": {},
   "outputs": [],
   "source": [
    "model = keras.Sequential([\n",
    "\n",
    "    keras.layers.Flatten(input_shape=(X.shape[1], X.shape[2])),\n",
    "\n",
    "    keras.layers.Dense(512, activation='relu'),\n",
    "\n",
    "    keras.layers.Dense(256, activation='relu'),\n",
    "\n",
    "    keras.layers.Dense(64, activation='relu'),\n",
    "\n",
    "    keras.layers.Dense(10, activation='softmax')\n",
    "])"
   ]
  },
  {
   "cell_type": "code",
   "execution_count": 9,
   "id": "9f28ed72",
   "metadata": {},
   "outputs": [],
   "source": [
    "optimiser = keras.optimizers.Adam(learning_rate=0.0001)\n",
    "model.compile(optimizer=optimiser,\n",
    "              loss='sparse_categorical_crossentropy',\n",
    "              metrics=['accuracy'])"
   ]
  },
  {
   "cell_type": "code",
   "execution_count": 10,
   "id": "b5ce5b08",
   "metadata": {},
   "outputs": [
    {
     "name": "stdout",
     "output_type": "stream",
     "text": [
      "Model: \"sequential\"\n",
      "_________________________________________________________________\n",
      "Layer (type)                 Output Shape              Param #   \n",
      "=================================================================\n",
      "flatten (Flatten)            (None, 1690)              0         \n",
      "_________________________________________________________________\n",
      "dense (Dense)                (None, 512)               865792    \n",
      "_________________________________________________________________\n",
      "dense_1 (Dense)              (None, 256)               131328    \n",
      "_________________________________________________________________\n",
      "dense_2 (Dense)              (None, 64)                16448     \n",
      "_________________________________________________________________\n",
      "dense_3 (Dense)              (None, 10)                650       \n",
      "=================================================================\n",
      "Total params: 1,014,218\n",
      "Trainable params: 1,014,218\n",
      "Non-trainable params: 0\n",
      "_________________________________________________________________\n"
     ]
    }
   ],
   "source": [
    "model.summary()"
   ]
  },
  {
   "cell_type": "code",
   "execution_count": 11,
   "id": "cd221680",
   "metadata": {},
   "outputs": [
    {
     "name": "stdout",
     "output_type": "stream",
     "text": [
      "Epoch 1/50\n",
      "197/197 [==============================] - 1s 4ms/step - loss: 6.0868 - accuracy: 0.2879 - val_loss: 2.2508 - val_accuracy: 0.2616\n",
      "Epoch 2/50\n",
      "197/197 [==============================] - 1s 4ms/step - loss: 1.9406 - accuracy: 0.3287 - val_loss: 2.0467 - val_accuracy: 0.3286\n",
      "Epoch 3/50\n",
      "197/197 [==============================] - 1s 4ms/step - loss: 1.7567 - accuracy: 0.3837 - val_loss: 2.0365 - val_accuracy: 0.3483\n",
      "Epoch 4/50\n",
      "197/197 [==============================] - 1s 4ms/step - loss: 1.6810 - accuracy: 0.4061 - val_loss: 2.1394 - val_accuracy: 0.3646\n",
      "Epoch 5/50\n",
      "197/197 [==============================] - 1s 4ms/step - loss: 1.5510 - accuracy: 0.4578 - val_loss: 1.9740 - val_accuracy: 0.3735\n",
      "Epoch 6/50\n",
      "197/197 [==============================] - 1s 4ms/step - loss: 1.4834 - accuracy: 0.4821 - val_loss: 1.9310 - val_accuracy: 0.3757\n",
      "Epoch 7/50\n",
      "197/197 [==============================] - 1s 4ms/step - loss: 1.4108 - accuracy: 0.5074 - val_loss: 1.9275 - val_accuracy: 0.4261\n",
      "Epoch 8/50\n",
      "197/197 [==============================] - 1s 4ms/step - loss: 1.2916 - accuracy: 0.5380 - val_loss: 1.9129 - val_accuracy: 0.4094\n",
      "Epoch 9/50\n",
      "197/197 [==============================] - 1s 4ms/step - loss: 1.2439 - accuracy: 0.5576 - val_loss: 1.9249 - val_accuracy: 0.4450\n",
      "Epoch 10/50\n",
      "197/197 [==============================] - 1s 4ms/step - loss: 1.1849 - accuracy: 0.5752 - val_loss: 1.9343 - val_accuracy: 0.4524\n",
      "Epoch 11/50\n",
      "197/197 [==============================] - 1s 3ms/step - loss: 1.1042 - accuracy: 0.6028 - val_loss: 1.8760 - val_accuracy: 0.4605\n",
      "Epoch 12/50\n",
      "197/197 [==============================] - 1s 4ms/step - loss: 1.0318 - accuracy: 0.6235 - val_loss: 1.9340 - val_accuracy: 0.4765\n",
      "Epoch 13/50\n",
      "197/197 [==============================] - 1s 4ms/step - loss: 0.9560 - accuracy: 0.6497 - val_loss: 2.2505 - val_accuracy: 0.4513\n",
      "Epoch 14/50\n",
      "197/197 [==============================] - 1s 4ms/step - loss: 0.9467 - accuracy: 0.6636 - val_loss: 1.8911 - val_accuracy: 0.4961\n",
      "Epoch 15/50\n",
      "197/197 [==============================] - 1s 4ms/step - loss: 0.8856 - accuracy: 0.6727 - val_loss: 1.8135 - val_accuracy: 0.5209\n",
      "Epoch 16/50\n",
      "197/197 [==============================] - 1s 4ms/step - loss: 0.8239 - accuracy: 0.6968 - val_loss: 1.7558 - val_accuracy: 0.5139\n",
      "Epoch 17/50\n",
      "197/197 [==============================] - 1s 4ms/step - loss: 0.7574 - accuracy: 0.7207 - val_loss: 1.8310 - val_accuracy: 0.5224\n",
      "Epoch 18/50\n",
      "197/197 [==============================] - 1s 4ms/step - loss: 0.7216 - accuracy: 0.7396 - val_loss: 1.9420 - val_accuracy: 0.5465\n",
      "Epoch 19/50\n",
      "197/197 [==============================] - 1s 4ms/step - loss: 0.6708 - accuracy: 0.7588 - val_loss: 1.7573 - val_accuracy: 0.5320\n",
      "Epoch 20/50\n",
      "197/197 [==============================] - 1s 4ms/step - loss: 0.6624 - accuracy: 0.7561 - val_loss: 1.7515 - val_accuracy: 0.5561\n",
      "Epoch 21/50\n",
      "197/197 [==============================] - 1s 4ms/step - loss: 0.5981 - accuracy: 0.7788 - val_loss: 1.9278 - val_accuracy: 0.5558\n",
      "Epoch 22/50\n",
      "197/197 [==============================] - 1s 3ms/step - loss: 0.5785 - accuracy: 0.7869 - val_loss: 1.8951 - val_accuracy: 0.5609\n",
      "Epoch 23/50\n",
      "197/197 [==============================] - 1s 4ms/step - loss: 0.5071 - accuracy: 0.8110 - val_loss: 1.7521 - val_accuracy: 0.5765\n",
      "Epoch 24/50\n",
      "197/197 [==============================] - 1s 4ms/step - loss: 0.4696 - accuracy: 0.8282 - val_loss: 1.9835 - val_accuracy: 0.5687\n",
      "Epoch 25/50\n",
      "197/197 [==============================] - 1s 4ms/step - loss: 0.4591 - accuracy: 0.8271 - val_loss: 1.9197 - val_accuracy: 0.5635\n",
      "Epoch 26/50\n",
      "197/197 [==============================] - 1s 4ms/step - loss: 0.4199 - accuracy: 0.8406 - val_loss: 1.9325 - val_accuracy: 0.5728\n",
      "Epoch 27/50\n",
      "197/197 [==============================] - 1s 4ms/step - loss: 0.3934 - accuracy: 0.8531 - val_loss: 1.9075 - val_accuracy: 0.5817\n",
      "Epoch 28/50\n",
      "197/197 [==============================] - 1s 4ms/step - loss: 0.3787 - accuracy: 0.8663 - val_loss: 1.8717 - val_accuracy: 0.5906\n",
      "Epoch 29/50\n",
      "197/197 [==============================] - 1s 4ms/step - loss: 0.3408 - accuracy: 0.8714 - val_loss: 1.9752 - val_accuracy: 0.5847\n",
      "Epoch 30/50\n",
      "197/197 [==============================] - 1s 4ms/step - loss: 0.3299 - accuracy: 0.8787 - val_loss: 2.1009 - val_accuracy: 0.5980\n",
      "Epoch 31/50\n",
      "197/197 [==============================] - 1s 4ms/step - loss: 0.3022 - accuracy: 0.8842 - val_loss: 2.2740 - val_accuracy: 0.5810\n",
      "Epoch 32/50\n",
      "197/197 [==============================] - 1s 4ms/step - loss: 0.3214 - accuracy: 0.8830 - val_loss: 2.1291 - val_accuracy: 0.5824\n",
      "Epoch 33/50\n",
      "197/197 [==============================] - 1s 3ms/step - loss: 0.2893 - accuracy: 0.8966 - val_loss: 1.9740 - val_accuracy: 0.5869\n",
      "Epoch 34/50\n",
      "197/197 [==============================] - 1s 4ms/step - loss: 0.2832 - accuracy: 0.8973 - val_loss: 2.2070 - val_accuracy: 0.5817\n",
      "Epoch 35/50\n",
      "197/197 [==============================] - 1s 4ms/step - loss: 0.2816 - accuracy: 0.9006 - val_loss: 1.9782 - val_accuracy: 0.5936\n",
      "Epoch 36/50\n",
      "197/197 [==============================] - 1s 4ms/step - loss: 0.2655 - accuracy: 0.9057 - val_loss: 2.1255 - val_accuracy: 0.5913\n",
      "Epoch 37/50\n",
      "197/197 [==============================] - 1s 4ms/step - loss: 0.2271 - accuracy: 0.9169 - val_loss: 2.3635 - val_accuracy: 0.5880\n",
      "Epoch 38/50\n",
      "197/197 [==============================] - 1s 4ms/step - loss: 0.2469 - accuracy: 0.9136 - val_loss: 2.1701 - val_accuracy: 0.6036\n",
      "Epoch 39/50\n",
      "197/197 [==============================] - 1s 4ms/step - loss: 0.1874 - accuracy: 0.9312 - val_loss: 2.3085 - val_accuracy: 0.5921\n",
      "Epoch 40/50\n",
      "197/197 [==============================] - 1s 3ms/step - loss: 0.2457 - accuracy: 0.9171 - val_loss: 2.1375 - val_accuracy: 0.5965\n",
      "Epoch 41/50\n",
      "197/197 [==============================] - 1s 4ms/step - loss: 0.2033 - accuracy: 0.9265 - val_loss: 2.1285 - val_accuracy: 0.6095\n",
      "Epoch 42/50\n",
      "197/197 [==============================] - 1s 4ms/step - loss: 0.1925 - accuracy: 0.9363 - val_loss: 2.3574 - val_accuracy: 0.6010\n",
      "Epoch 43/50\n",
      "197/197 [==============================] - 1s 4ms/step - loss: 0.1881 - accuracy: 0.9338 - val_loss: 2.4684 - val_accuracy: 0.5784\n",
      "Epoch 44/50\n",
      "197/197 [==============================] - 1s 4ms/step - loss: 0.1799 - accuracy: 0.9349 - val_loss: 2.5516 - val_accuracy: 0.5961\n",
      "Epoch 45/50\n",
      "197/197 [==============================] - 1s 4ms/step - loss: 0.1781 - accuracy: 0.9377 - val_loss: 2.4310 - val_accuracy: 0.6021\n",
      "Epoch 46/50\n",
      "197/197 [==============================] - 1s 4ms/step - loss: 0.1528 - accuracy: 0.9457 - val_loss: 2.3302 - val_accuracy: 0.5798\n",
      "Epoch 47/50\n",
      "197/197 [==============================] - 1s 4ms/step - loss: 0.1800 - accuracy: 0.9370 - val_loss: 2.2150 - val_accuracy: 0.6132\n",
      "Epoch 48/50\n",
      "197/197 [==============================] - 1s 4ms/step - loss: 0.1435 - accuracy: 0.9498 - val_loss: 2.3277 - val_accuracy: 0.6047\n",
      "Epoch 49/50\n",
      "197/197 [==============================] - 1s 4ms/step - loss: 0.1618 - accuracy: 0.9436 - val_loss: 2.4277 - val_accuracy: 0.5980\n",
      "Epoch 50/50\n",
      "197/197 [==============================] - 1s 4ms/step - loss: 0.1109 - accuracy: 0.9609 - val_loss: 2.5663 - val_accuracy: 0.6150\n"
     ]
    }
   ],
   "source": [
    "history = model.fit(X_train, y_train, validation_data=(X_test, y_test), batch_size=32, epochs=50)"
   ]
  },
  {
   "cell_type": "code",
   "execution_count": 12,
   "id": "7a8650ce",
   "metadata": {},
   "outputs": [],
   "source": [
    "def plot_history(history):\n",
    "\n",
    "    fig, axs = plt.subplots(2)\n",
    "\n",
    "    axs[0].plot(history.history[\"accuracy\"], label=\"train accuracy\")\n",
    "    axs[0].plot(history.history[\"val_accuracy\"], label=\"test accuracy\")\n",
    "    axs[0].set_ylabel(\"Accuracy\")\n",
    "    axs[0].legend(loc=\"lower right\")\n",
    "    axs[0].set_title(\"Accuracy eval\")\n",
    "\n",
    "    axs[1].plot(history.history[\"loss\"], label=\"train error\")\n",
    "    axs[1].plot(history.history[\"val_loss\"], label=\"test error\")\n",
    "    axs[1].set_ylabel(\"Error\")\n",
    "    axs[1].set_xlabel(\"Epoch\")\n",
    "    axs[1].legend(loc=\"upper right\")\n",
    "    axs[1].set_title(\"Error eval\")\n",
    "    \n",
    "    plt.show()"
   ]
  },
  {
   "cell_type": "code",
   "execution_count": 13,
   "id": "c046ceb7",
   "metadata": {},
   "outputs": [
    {
     "data": {
      "image/png": "[encoded data removed]",
      "text/plain": [
       "<Figure size 432x288 with 2 Axes>"
      ]
     },
     "metadata": {
      "needs_background": "light"
     },
     "output_type": "display_data"
    }
   ],
   "source": [
    "plot_history(history)"
   ]
  },
  {
   "cell_type": "code",
   "execution_count": 14,
   "id": "d03d289d",
   "metadata": {},
   "outputs": [],
   "source": [
    "model_regularized = keras.Sequential([\n",
    "\n",
    "    keras.layers.Flatten(input_shape=(X.shape[1], X.shape[2])),\n",
    "\n",
    "    keras.layers.Dense(512, activation='relu', kernel_regularizer=keras.regularizers.l2(0.001)),\n",
    "    keras.layers.Dropout(0.3),\n",
    "\n",
    "    keras.layers.Dense(256, activation='relu', kernel_regularizer=keras.regularizers.l2(0.001)),\n",
    "    keras.layers.Dropout(0.3),\n",
    "\n",
    "    keras.layers.Dense(64, activation='relu', kernel_regularizer=keras.regularizers.l2(0.001)),\n",
    "    keras.layers.Dropout(0.3),\n",
    "\n",
    "    keras.layers.Dense(10, activation='softmax')\n",
    "])"
   ]
  },
  {
   "cell_type": "code",
   "execution_count": 15,
   "id": "a3b09ce5",
   "metadata": {},
   "outputs": [],
   "source": [
    "optimiser = keras.optimizers.Adam(learning_rate=0.0001)\n",
    "model_regularized.compile(optimizer=optimiser,\n",
    "              loss='sparse_categorical_crossentropy',\n",
    "              metrics=['accuracy'])"
   ]
  },
  {
   "cell_type": "code",
   "execution_count": 16,
   "id": "cdcf48af",
   "metadata": {},
   "outputs": [
    {
     "name": "stdout",
     "output_type": "stream",
     "text": [
      "Epoch 1/100\n",
      "197/197 [==============================] - 1s 7ms/step - loss: 22.0044 - accuracy: 0.1853 - val_loss: 3.6561 - val_accuracy: 0.2223\n",
      "Epoch 2/100\n",
      "197/197 [==============================] - 1s 7ms/step - loss: 7.0021 - accuracy: 0.1804 - val_loss: 3.4144 - val_accuracy: 0.1660\n",
      "Epoch 3/100\n",
      "197/197 [==============================] - 1s 6ms/step - loss: 4.7614 - accuracy: 0.1729 - val_loss: 3.4492 - val_accuracy: 0.1589\n",
      "Epoch 4/100\n",
      "197/197 [==============================] - 1s 6ms/step - loss: 4.0688 - accuracy: 0.1723 - val_loss: 3.4631 - val_accuracy: 0.1423\n",
      "Epoch 5/100\n",
      "197/197 [==============================] - 1s 6ms/step - loss: 3.7957 - accuracy: 0.1677 - val_loss: 3.4569 - val_accuracy: 0.1412\n",
      "Epoch 6/100\n",
      "197/197 [==============================] - 1s 7ms/step - loss: 3.6752 - accuracy: 0.1607 - val_loss: 3.4388 - val_accuracy: 0.1482\n",
      "Epoch 7/100\n",
      "197/197 [==============================] - 1s 6ms/step - loss: 3.6192 - accuracy: 0.1660 - val_loss: 3.4178 - val_accuracy: 0.1597\n",
      "Epoch 8/100\n",
      "197/197 [==============================] - 1s 6ms/step - loss: 3.5087 - accuracy: 0.1771 - val_loss: 3.3935 - val_accuracy: 0.1660\n",
      "Epoch 9/100\n",
      "197/197 [==============================] - 1s 7ms/step - loss: 3.4627 - accuracy: 0.1815 - val_loss: 3.3450 - val_accuracy: 0.1934\n",
      "Epoch 10/100\n",
      "197/197 [==============================] - 1s 7ms/step - loss: 3.4193 - accuracy: 0.1922 - val_loss: 3.3323 - val_accuracy: 0.1960\n",
      "Epoch 11/100\n",
      "197/197 [==============================] - 1s 5ms/step - loss: 3.3883 - accuracy: 0.1934 - val_loss: 3.2894 - val_accuracy: 0.2101\n",
      "Epoch 12/100\n",
      "197/197 [==============================] - 1s 6ms/step - loss: 3.3587 - accuracy: 0.1987 - val_loss: 3.2775 - val_accuracy: 0.2123\n",
      "Epoch 13/100\n",
      "197/197 [==============================] - 1s 6ms/step - loss: 3.3242 - accuracy: 0.2028 - val_loss: 3.2913 - val_accuracy: 0.2034\n",
      "Epoch 14/100\n",
      "197/197 [==============================] - 1s 6ms/step - loss: 3.2878 - accuracy: 0.2072 - val_loss: 3.2419 - val_accuracy: 0.2234\n",
      "Epoch 15/100\n",
      "197/197 [==============================] - 1s 6ms/step - loss: 3.3048 - accuracy: 0.2057 - val_loss: 3.2439 - val_accuracy: 0.2156\n",
      "Epoch 16/100\n",
      "197/197 [==============================] - 1s 6ms/step - loss: 3.2706 - accuracy: 0.2168 - val_loss: 3.2084 - val_accuracy: 0.2230\n",
      "Epoch 17/100\n",
      "197/197 [==============================] - 1s 6ms/step - loss: 3.2508 - accuracy: 0.2174 - val_loss: 3.2206 - val_accuracy: 0.2145\n",
      "Epoch 18/100\n",
      "197/197 [==============================] - 1s 6ms/step - loss: 3.2239 - accuracy: 0.2287 - val_loss: 3.1684 - val_accuracy: 0.2249\n",
      "Epoch 19/100\n",
      "197/197 [==============================] - 1s 6ms/step - loss: 3.1935 - accuracy: 0.2385 - val_loss: 3.1111 - val_accuracy: 0.2456\n",
      "Epoch 20/100\n",
      "197/197 [==============================] - 1s 6ms/step - loss: 3.1668 - accuracy: 0.2473 - val_loss: 3.1001 - val_accuracy: 0.2460\n",
      "Epoch 21/100\n",
      "197/197 [==============================] - 1s 6ms/step - loss: 3.1384 - accuracy: 0.2488 - val_loss: 3.0899 - val_accuracy: 0.2501\n",
      "Epoch 22/100\n",
      "197/197 [==============================] - 1s 6ms/step - loss: 3.1083 - accuracy: 0.2563 - val_loss: 3.1202 - val_accuracy: 0.2197\n",
      "Epoch 23/100\n",
      "197/197 [==============================] - 1s 6ms/step - loss: 3.1014 - accuracy: 0.2546 - val_loss: 3.0679 - val_accuracy: 0.2471\n",
      "Epoch 24/100\n",
      "197/197 [==============================] - 1s 6ms/step - loss: 3.0854 - accuracy: 0.2620 - val_loss: 3.0636 - val_accuracy: 0.2375\n",
      "Epoch 25/100\n",
      "197/197 [==============================] - 1s 5ms/step - loss: 3.0554 - accuracy: 0.2655 - val_loss: 2.9918 - val_accuracy: 0.2701\n",
      "Epoch 26/100\n",
      "197/197 [==============================] - 1s 5ms/step - loss: 3.0225 - accuracy: 0.2708 - val_loss: 2.9797 - val_accuracy: 0.2590\n",
      "Epoch 27/100\n",
      "197/197 [==============================] - 1s 6ms/step - loss: 2.9825 - accuracy: 0.2789 - val_loss: 2.9713 - val_accuracy: 0.2634\n",
      "Epoch 28/100\n",
      "197/197 [==============================] - 1s 6ms/step - loss: 2.9811 - accuracy: 0.2739 - val_loss: 2.9522 - val_accuracy: 0.2675\n",
      "Epoch 29/100\n",
      "197/197 [==============================] - 1s 6ms/step - loss: 2.9587 - accuracy: 0.2785 - val_loss: 2.9196 - val_accuracy: 0.2871\n",
      "Epoch 30/100\n",
      "197/197 [==============================] - 1s 5ms/step - loss: 2.9293 - accuracy: 0.2892 - val_loss: 2.9085 - val_accuracy: 0.2916\n",
      "Epoch 31/100\n",
      "197/197 [==============================] - 1s 5ms/step - loss: 2.9110 - accuracy: 0.2903 - val_loss: 2.8793 - val_accuracy: 0.2901\n",
      "Epoch 32/100\n",
      "197/197 [==============================] - 1s 6ms/step - loss: 2.8684 - accuracy: 0.2965 - val_loss: 2.8745 - val_accuracy: 0.2864\n",
      "Epoch 33/100\n",
      "197/197 [==============================] - 1s 5ms/step - loss: 2.8594 - accuracy: 0.2930 - val_loss: 2.8246 - val_accuracy: 0.3031\n",
      "Epoch 34/100\n",
      "197/197 [==============================] - 1s 5ms/step - loss: 2.8197 - accuracy: 0.2995 - val_loss: 2.8287 - val_accuracy: 0.2912\n",
      "Epoch 35/100\n",
      "197/197 [==============================] - 1s 5ms/step - loss: 2.7980 - accuracy: 0.3020 - val_loss: 2.8059 - val_accuracy: 0.3005\n",
      "Epoch 36/100\n",
      "197/197 [==============================] - 1s 6ms/step - loss: 2.7659 - accuracy: 0.3081 - val_loss: 2.7837 - val_accuracy: 0.2794\n",
      "Epoch 37/100\n",
      "197/197 [==============================] - 1s 6ms/step - loss: 2.7539 - accuracy: 0.3086 - val_loss: 2.7450 - val_accuracy: 0.3012\n",
      "Epoch 38/100\n",
      "197/197 [==============================] - 1s 5ms/step - loss: 2.7150 - accuracy: 0.3143 - val_loss: 2.7581 - val_accuracy: 0.3183\n",
      "Epoch 39/100\n",
      "197/197 [==============================] - 1s 5ms/step - loss: 2.7045 - accuracy: 0.3221 - val_loss: 2.7168 - val_accuracy: 0.3116\n",
      "Epoch 40/100\n",
      "197/197 [==============================] - 1s 5ms/step - loss: 2.6543 - accuracy: 0.3262 - val_loss: 2.6796 - val_accuracy: 0.3072\n",
      "Epoch 41/100\n",
      "197/197 [==============================] - 1s 6ms/step - loss: 2.6459 - accuracy: 0.3271 - val_loss: 2.6658 - val_accuracy: 0.3109\n",
      "Epoch 42/100\n",
      "197/197 [==============================] - 1s 5ms/step - loss: 2.6022 - accuracy: 0.3346 - val_loss: 2.6284 - val_accuracy: 0.3216\n",
      "Epoch 43/100\n",
      "197/197 [==============================] - 1s 5ms/step - loss: 2.5713 - accuracy: 0.3389 - val_loss: 2.5801 - val_accuracy: 0.3279\n",
      "Epoch 44/100\n",
      "197/197 [==============================] - 1s 6ms/step - loss: 2.5483 - accuracy: 0.3478 - val_loss: 2.6189 - val_accuracy: 0.3286\n",
      "Epoch 45/100\n",
      "197/197 [==============================] - 1s 5ms/step - loss: 2.5155 - accuracy: 0.3506 - val_loss: 2.5651 - val_accuracy: 0.3531\n",
      "Epoch 46/100\n",
      "197/197 [==============================] - 1s 6ms/step - loss: 2.4946 - accuracy: 0.3510 - val_loss: 2.5399 - val_accuracy: 0.3527\n",
      "Epoch 47/100\n",
      "197/197 [==============================] - 1s 6ms/step - loss: 2.4656 - accuracy: 0.3711 - val_loss: 2.4988 - val_accuracy: 0.3727\n",
      "Epoch 48/100\n",
      "197/197 [==============================] - 1s 6ms/step - loss: 2.4192 - accuracy: 0.3770 - val_loss: 2.4492 - val_accuracy: 0.3724\n",
      "Epoch 49/100\n",
      "197/197 [==============================] - 1s 6ms/step - loss: 2.3744 - accuracy: 0.3726 - val_loss: 2.3245 - val_accuracy: 0.3950\n",
      "Epoch 50/100\n",
      "197/197 [==============================] - 1s 6ms/step - loss: 2.3001 - accuracy: 0.4000 - val_loss: 2.3167 - val_accuracy: 0.3764\n",
      "Epoch 51/100\n",
      "197/197 [==============================] - 1s 6ms/step - loss: 2.2671 - accuracy: 0.4042 - val_loss: 2.2757 - val_accuracy: 0.4064\n",
      "Epoch 52/100\n",
      "197/197 [==============================] - 1s 6ms/step - loss: 2.2284 - accuracy: 0.4029 - val_loss: 2.2213 - val_accuracy: 0.3979\n",
      "Epoch 53/100\n",
      "197/197 [==============================] - 1s 6ms/step - loss: 2.1716 - accuracy: 0.4145 - val_loss: 2.2326 - val_accuracy: 0.4224\n",
      "Epoch 54/100\n",
      "197/197 [==============================] - 1s 6ms/step - loss: 2.1436 - accuracy: 0.4219 - val_loss: 2.1840 - val_accuracy: 0.4305\n",
      "Epoch 55/100\n",
      "197/197 [==============================] - 1s 6ms/step - loss: 2.1081 - accuracy: 0.4374 - val_loss: 2.1743 - val_accuracy: 0.4168\n",
      "Epoch 56/100\n",
      "197/197 [==============================] - 1s 6ms/step - loss: 2.0768 - accuracy: 0.4393 - val_loss: 2.1359 - val_accuracy: 0.4457\n",
      "Epoch 57/100\n",
      "197/197 [==============================] - 1s 6ms/step - loss: 2.0363 - accuracy: 0.4555 - val_loss: 2.1497 - val_accuracy: 0.4476\n"
     ]
    },
    {
     "name": "stdout",
     "output_type": "stream",
     "text": [
      "Epoch 58/100\n",
      "197/197 [==============================] - 1s 6ms/step - loss: 2.0143 - accuracy: 0.4610 - val_loss: 2.0943 - val_accuracy: 0.4646\n",
      "Epoch 59/100\n",
      "197/197 [==============================] - 1s 6ms/step - loss: 1.9803 - accuracy: 0.4588 - val_loss: 2.0574 - val_accuracy: 0.4694\n",
      "Epoch 60/100\n",
      "197/197 [==============================] - 1s 6ms/step - loss: 1.9682 - accuracy: 0.4759 - val_loss: 2.0560 - val_accuracy: 0.4683\n",
      "Epoch 61/100\n",
      "197/197 [==============================] - 1s 6ms/step - loss: 1.9252 - accuracy: 0.4742 - val_loss: 2.0198 - val_accuracy: 0.4739\n",
      "Epoch 62/100\n",
      "197/197 [==============================] - 1s 6ms/step - loss: 1.9170 - accuracy: 0.4796 - val_loss: 2.0183 - val_accuracy: 0.4780\n",
      "Epoch 63/100\n",
      "197/197 [==============================] - 1s 6ms/step - loss: 1.8611 - accuracy: 0.5058 - val_loss: 1.9431 - val_accuracy: 0.5050\n",
      "Epoch 64/100\n",
      "197/197 [==============================] - 1s 6ms/step - loss: 1.8328 - accuracy: 0.5047 - val_loss: 1.9395 - val_accuracy: 0.5113\n",
      "Epoch 65/100\n",
      "197/197 [==============================] - 1s 6ms/step - loss: 1.8242 - accuracy: 0.5121 - val_loss: 1.9459 - val_accuracy: 0.5076\n",
      "Epoch 66/100\n",
      "197/197 [==============================] - 1s 5ms/step - loss: 1.7957 - accuracy: 0.5107 - val_loss: 1.8945 - val_accuracy: 0.5139\n",
      "Epoch 67/100\n",
      "197/197 [==============================] - 1s 6ms/step - loss: 1.7516 - accuracy: 0.5279 - val_loss: 1.9490 - val_accuracy: 0.5217\n",
      "Epoch 68/100\n",
      "197/197 [==============================] - 1s 6ms/step - loss: 1.7610 - accuracy: 0.5304 - val_loss: 1.9605 - val_accuracy: 0.5091\n",
      "Epoch 69/100\n",
      "197/197 [==============================] - 1s 5ms/step - loss: 1.7209 - accuracy: 0.5369 - val_loss: 1.9573 - val_accuracy: 0.5120\n",
      "Epoch 70/100\n",
      "197/197 [==============================] - 1s 6ms/step - loss: 1.7054 - accuracy: 0.5441 - val_loss: 1.9176 - val_accuracy: 0.5306\n",
      "Epoch 71/100\n",
      "197/197 [==============================] - 1s 5ms/step - loss: 1.6837 - accuracy: 0.5493 - val_loss: 1.8996 - val_accuracy: 0.5387\n",
      "Epoch 72/100\n",
      "197/197 [==============================] - 1s 6ms/step - loss: 1.6385 - accuracy: 0.5595 - val_loss: 1.8632 - val_accuracy: 0.5365\n",
      "Epoch 73/100\n",
      "197/197 [==============================] - 1s 6ms/step - loss: 1.6189 - accuracy: 0.5754 - val_loss: 1.8168 - val_accuracy: 0.5413\n",
      "Epoch 74/100\n",
      "197/197 [==============================] - 1s 5ms/step - loss: 1.6137 - accuracy: 0.5615 - val_loss: 1.8112 - val_accuracy: 0.5376\n",
      "Epoch 75/100\n",
      "197/197 [==============================] - 1s 6ms/step - loss: 1.5787 - accuracy: 0.5808 - val_loss: 1.8124 - val_accuracy: 0.5502\n",
      "Epoch 76/100\n",
      "197/197 [==============================] - 1s 6ms/step - loss: 1.5674 - accuracy: 0.5809 - val_loss: 1.7938 - val_accuracy: 0.5506\n",
      "Epoch 77/100\n",
      "197/197 [==============================] - 1s 6ms/step - loss: 1.5384 - accuracy: 0.5884 - val_loss: 1.7853 - val_accuracy: 0.5558\n",
      "Epoch 78/100\n",
      "197/197 [==============================] - 1s 6ms/step - loss: 1.5109 - accuracy: 0.6003 - val_loss: 1.8321 - val_accuracy: 0.5513\n",
      "Epoch 79/100\n",
      "197/197 [==============================] - 1s 6ms/step - loss: 1.4758 - accuracy: 0.6168 - val_loss: 1.7688 - val_accuracy: 0.5572\n",
      "Epoch 80/100\n",
      "197/197 [==============================] - 1s 6ms/step - loss: 1.4817 - accuracy: 0.6055 - val_loss: 1.7639 - val_accuracy: 0.5576\n",
      "Epoch 81/100\n",
      "197/197 [==============================] - 1s 6ms/step - loss: 1.4350 - accuracy: 0.6246 - val_loss: 1.7377 - val_accuracy: 0.5717\n",
      "Epoch 82/100\n",
      "197/197 [==============================] - 1s 6ms/step - loss: 1.4288 - accuracy: 0.6260 - val_loss: 1.7681 - val_accuracy: 0.5628\n",
      "Epoch 83/100\n",
      "197/197 [==============================] - 1s 6ms/step - loss: 1.3923 - accuracy: 0.6325 - val_loss: 1.7747 - val_accuracy: 0.5647\n",
      "Epoch 84/100\n",
      "197/197 [==============================] - 1s 6ms/step - loss: 1.3884 - accuracy: 0.6300 - val_loss: 1.7965 - val_accuracy: 0.5698\n",
      "Epoch 85/100\n",
      "197/197 [==============================] - 1s 5ms/step - loss: 1.3669 - accuracy: 0.6413 - val_loss: 1.7450 - val_accuracy: 0.5710\n",
      "Epoch 86/100\n",
      "197/197 [==============================] - 1s 6ms/step - loss: 1.3435 - accuracy: 0.6492 - val_loss: 1.7422 - val_accuracy: 0.5798\n",
      "Epoch 87/100\n",
      "197/197 [==============================] - 1s 6ms/step - loss: 1.3126 - accuracy: 0.6606 - val_loss: 1.7277 - val_accuracy: 0.5795\n",
      "Epoch 88/100\n",
      "197/197 [==============================] - 1s 5ms/step - loss: 1.3111 - accuracy: 0.6560 - val_loss: 1.8058 - val_accuracy: 0.5739\n",
      "Epoch 89/100\n",
      "197/197 [==============================] - 1s 6ms/step - loss: 1.2859 - accuracy: 0.6651 - val_loss: 1.7404 - val_accuracy: 0.5721\n",
      "Epoch 90/100\n",
      "197/197 [==============================] - 1s 5ms/step - loss: 1.2798 - accuracy: 0.6710 - val_loss: 1.7425 - val_accuracy: 0.5876\n",
      "Epoch 91/100\n",
      "197/197 [==============================] - 1s 6ms/step - loss: 1.2372 - accuracy: 0.6792 - val_loss: 1.7688 - val_accuracy: 0.5939\n",
      "Epoch 92/100\n",
      "197/197 [==============================] - 1s 6ms/step - loss: 1.2430 - accuracy: 0.6837 - val_loss: 1.8015 - val_accuracy: 0.5765\n",
      "Epoch 93/100\n",
      "197/197 [==============================] - 1s 5ms/step - loss: 1.2144 - accuracy: 0.6949 - val_loss: 1.7908 - val_accuracy: 0.5869\n",
      "Epoch 94/100\n",
      "197/197 [==============================] - 1s 6ms/step - loss: 1.2118 - accuracy: 0.6943 - val_loss: 1.8362 - val_accuracy: 0.5828\n",
      "Epoch 95/100\n",
      "197/197 [==============================] - 1s 6ms/step - loss: 1.1793 - accuracy: 0.7027 - val_loss: 1.7085 - val_accuracy: 0.5895\n",
      "Epoch 96/100\n",
      "197/197 [==============================] - 1s 6ms/step - loss: 1.1566 - accuracy: 0.7089 - val_loss: 1.7910 - val_accuracy: 0.5913\n",
      "Epoch 97/100\n",
      "197/197 [==============================] - 1s 6ms/step - loss: 1.1587 - accuracy: 0.7097 - val_loss: 1.7726 - val_accuracy: 0.5873\n",
      "Epoch 98/100\n",
      "197/197 [==============================] - 1s 6ms/step - loss: 1.1432 - accuracy: 0.7089 - val_loss: 1.7609 - val_accuracy: 0.5798\n",
      "Epoch 99/100\n",
      "197/197 [==============================] - 1s 5ms/step - loss: 1.1242 - accuracy: 0.7157 - val_loss: 1.7350 - val_accuracy: 0.6021\n",
      "Epoch 100/100\n",
      "197/197 [==============================] - 1s 6ms/step - loss: 1.1180 - accuracy: 0.7141 - val_loss: 1.7330 - val_accuracy: 0.6043\n"
     ]
    }
   ],
   "source": [
    "history = model_regularized.fit(X_train, y_train, validation_data=(X_test, y_test), batch_size=32, epochs=100)"
   ]
  },
  {
   "cell_type": "code",
   "execution_count": 17,
   "id": "fd974f2b",
   "metadata": {},
   "outputs": [
    {
     "data": {
      "image/png": "[encoded data removed]",
      "text/plain": [
       "<Figure size 432x288 with 2 Axes>"
      ]
     },
     "metadata": {
      "needs_background": "light"
     },
     "output_type": "display_data"
    }
   ],
   "source": [
    "plot_history(history)"
   ]
  },
  {
   "cell_type": "markdown",
   "id": "4e3cdd24",
   "metadata": {},
   "source": [
    "## CNN"
   ]
  },
  {
   "cell_type": "code",
   "execution_count": 18,
   "id": "7783fb7a",
   "metadata": {},
   "outputs": [],
   "source": [
    "X_train, X_test, y_train, y_test = train_test_split(X, y, test_size=0.25)\n",
    "X_train, X_validation, y_train, y_validation = train_test_split(X_train, y_train, test_size=0.2)\n",
    "\n",
    "X_train      = X_train[..., np.newaxis]\n",
    "X_validation = X_validation[..., np.newaxis]\n",
    "X_test       = X_test[..., np.newaxis]"
   ]
  },
  {
   "cell_type": "code",
   "execution_count": 19,
   "id": "32848f05",
   "metadata": {},
   "outputs": [
    {
     "data": {
      "text/plain": [
       "(5397, 130, 13, 1)"
      ]
     },
     "execution_count": 19,
     "metadata": {},
     "output_type": "execute_result"
    }
   ],
   "source": [
    "X_train.shape"
   ]
  },
  {
   "cell_type": "code",
   "execution_count": 20,
   "id": "a317ff05",
   "metadata": {},
   "outputs": [],
   "source": [
    "input_shape = (X_train.shape[1], X_train.shape[2], 1)"
   ]
  },
  {
   "cell_type": "code",
   "execution_count": 21,
   "id": "7bfab351",
   "metadata": {},
   "outputs": [],
   "source": [
    "model_cnn = keras.Sequential()\n",
    "\n",
    "model_cnn.add(keras.layers.Conv2D(32, (3, 3), activation='relu', input_shape=input_shape))\n",
    "model_cnn.add(keras.layers.MaxPooling2D((3, 3), strides=(2, 2), padding='same'))\n",
    "model_cnn.add(keras.layers.BatchNormalization())\n",
    "\n",
    "model_cnn.add(keras.layers.Conv2D(32, (3, 3), activation='relu'))\n",
    "model_cnn.add(keras.layers.MaxPooling2D((3, 3), strides=(2, 2), padding='same'))\n",
    "model_cnn.add(keras.layers.BatchNormalization())\n",
    "\n",
    "model_cnn.add(keras.layers.Conv2D(32, (2, 2), activation='relu'))\n",
    "model_cnn.add(keras.layers.MaxPooling2D((2, 2), strides=(2, 2), padding='same'))\n",
    "model_cnn.add(keras.layers.BatchNormalization())\n",
    "\n",
    "model_cnn.add(keras.layers.Flatten())\n",
    "model_cnn.add(keras.layers.Dense(64, activation='relu'))\n",
    "model_cnn.add(keras.layers.Dropout(0.3))\n",
    "\n",
    "model_cnn.add(keras.layers.Dense(10, activation='softmax'))"
   ]
  },
  {
   "cell_type": "code",
   "execution_count": 22,
   "id": "7bf77ee9",
   "metadata": {},
   "outputs": [],
   "source": [
    "optimiser = keras.optimizers.Adam(learning_rate=0.0001)\n",
    "model_cnn.compile(optimizer=optimiser,\n",
    "              loss='sparse_categorical_crossentropy',\n",
    "              metrics=['accuracy'])"
   ]
  },
  {
   "cell_type": "code",
   "execution_count": 23,
   "id": "549fd193",
   "metadata": {},
   "outputs": [
    {
     "name": "stdout",
     "output_type": "stream",
     "text": [
      "Model: \"sequential_2\"\n",
      "_________________________________________________________________\n",
      "Layer (type)                 Output Shape              Param #   \n",
      "=================================================================\n",
      "conv2d (Conv2D)              (None, 128, 11, 32)       320       \n",
      "_________________________________________________________________\n",
      "max_pooling2d (MaxPooling2D) (None, 64, 6, 32)         0         \n",
      "_________________________________________________________________\n",
      "batch_normalization (BatchNo (None, 64, 6, 32)         128       \n",
      "_________________________________________________________________\n",
      "conv2d_1 (Conv2D)            (None, 62, 4, 32)         9248      \n",
      "_________________________________________________________________\n",
      "max_pooling2d_1 (MaxPooling2 (None, 31, 2, 32)         0         \n",
      "_________________________________________________________________\n",
      "batch_normalization_1 (Batch (None, 31, 2, 32)         128       \n",
      "_________________________________________________________________\n",
      "conv2d_2 (Conv2D)            (None, 30, 1, 32)         4128      \n",
      "_________________________________________________________________\n",
      "max_pooling2d_2 (MaxPooling2 (None, 15, 1, 32)         0         \n",
      "_________________________________________________________________\n",
      "batch_normalization_2 (Batch (None, 15, 1, 32)         128       \n",
      "_________________________________________________________________\n",
      "flatten_2 (Flatten)          (None, 480)               0         \n",
      "_________________________________________________________________\n",
      "dense_8 (Dense)              (None, 64)                30784     \n",
      "_________________________________________________________________\n",
      "dropout_3 (Dropout)          (None, 64)                0         \n",
      "_________________________________________________________________\n",
      "dense_9 (Dense)              (None, 10)                650       \n",
      "=================================================================\n",
      "Total params: 45,514\n",
      "Trainable params: 45,322\n",
      "Non-trainable params: 192\n",
      "_________________________________________________________________\n"
     ]
    }
   ],
   "source": [
    "model_cnn.summary()"
   ]
  },
  {
   "cell_type": "code",
   "execution_count": 24,
   "id": "afcae29d",
   "metadata": {},
   "outputs": [
    {
     "name": "stdout",
     "output_type": "stream",
     "text": [
      "Epoch 1/50\n",
      "169/169 [==============================] - 3s 20ms/step - loss: 2.2365 - accuracy: 0.2752 - val_loss: 1.8050 - val_accuracy: 0.3815\n",
      "Epoch 2/50\n",
      "169/169 [==============================] - 3s 19ms/step - loss: 1.7316 - accuracy: 0.4030 - val_loss: 1.5235 - val_accuracy: 0.4607\n",
      "Epoch 3/50\n",
      "169/169 [==============================] - 3s 19ms/step - loss: 1.5584 - accuracy: 0.4515 - val_loss: 1.3930 - val_accuracy: 0.4985\n",
      "Epoch 4/50\n",
      "169/169 [==============================] - 3s 20ms/step - loss: 1.4477 - accuracy: 0.4918 - val_loss: 1.3228 - val_accuracy: 0.5126\n",
      "Epoch 5/50\n",
      "169/169 [==============================] - 4s 21ms/step - loss: 1.3591 - accuracy: 0.5114 - val_loss: 1.2467 - val_accuracy: 0.5385\n",
      "Epoch 6/50\n",
      "169/169 [==============================] - 3s 21ms/step - loss: 1.2864 - accuracy: 0.5470 - val_loss: 1.2160 - val_accuracy: 0.5504\n",
      "Epoch 7/50\n",
      "169/169 [==============================] - 4s 21ms/step - loss: 1.2384 - accuracy: 0.5542 - val_loss: 1.1497 - val_accuracy: 0.5763\n",
      "Epoch 8/50\n",
      "169/169 [==============================] - 4s 23ms/step - loss: 1.1752 - accuracy: 0.5857 - val_loss: 1.1013 - val_accuracy: 0.5874\n",
      "Epoch 9/50\n",
      "169/169 [==============================] - 4s 21ms/step - loss: 1.1345 - accuracy: 0.5976 - val_loss: 1.0703 - val_accuracy: 0.5985\n",
      "Epoch 10/50\n",
      "169/169 [==============================] - 3s 20ms/step - loss: 1.0941 - accuracy: 0.6111 - val_loss: 1.0583 - val_accuracy: 0.6052\n",
      "Epoch 11/50\n",
      "169/169 [==============================] - 3s 19ms/step - loss: 1.0605 - accuracy: 0.6276 - val_loss: 1.0024 - val_accuracy: 0.6415\n",
      "Epoch 12/50\n",
      "169/169 [==============================] - 3s 19ms/step - loss: 1.0127 - accuracy: 0.6378 - val_loss: 1.0200 - val_accuracy: 0.6281\n",
      "Epoch 13/50\n",
      "169/169 [==============================] - 3s 19ms/step - loss: 0.9713 - accuracy: 0.6515 - val_loss: 0.9654 - val_accuracy: 0.6526\n",
      "Epoch 14/50\n",
      "169/169 [==============================] - 3s 19ms/step - loss: 0.9599 - accuracy: 0.6604 - val_loss: 0.9494 - val_accuracy: 0.6622\n",
      "Epoch 15/50\n",
      "169/169 [==============================] - 3s 19ms/step - loss: 0.9342 - accuracy: 0.6648 - val_loss: 0.9354 - val_accuracy: 0.6704\n",
      "Epoch 16/50\n",
      "169/169 [==============================] - 3s 19ms/step - loss: 0.8864 - accuracy: 0.6837 - val_loss: 0.8952 - val_accuracy: 0.6837\n",
      "Epoch 17/50\n",
      "169/169 [==============================] - 3s 19ms/step - loss: 0.8787 - accuracy: 0.6893 - val_loss: 0.8923 - val_accuracy: 0.6822\n",
      "Epoch 18/50\n",
      "169/169 [==============================] - 3s 20ms/step - loss: 0.8464 - accuracy: 0.7048 - val_loss: 0.8925 - val_accuracy: 0.6852\n",
      "Epoch 19/50\n",
      "169/169 [==============================] - 3s 19ms/step - loss: 0.8244 - accuracy: 0.7048 - val_loss: 0.8786 - val_accuracy: 0.7037\n",
      "Epoch 20/50\n",
      "169/169 [==============================] - 3s 19ms/step - loss: 0.8053 - accuracy: 0.7095 - val_loss: 0.8665 - val_accuracy: 0.7022\n",
      "Epoch 21/50\n",
      "169/169 [==============================] - 4s 22ms/step - loss: 0.7816 - accuracy: 0.7224 - val_loss: 0.8493 - val_accuracy: 0.6948\n",
      "Epoch 22/50\n",
      "169/169 [==============================] - 4s 21ms/step - loss: 0.7507 - accuracy: 0.7376 - val_loss: 0.8264 - val_accuracy: 0.7104\n",
      "Epoch 23/50\n",
      "169/169 [==============================] - 4s 21ms/step - loss: 0.7568 - accuracy: 0.7386 - val_loss: 0.8354 - val_accuracy: 0.7104\n",
      "Epoch 24/50\n",
      "169/169 [==============================] - 4s 21ms/step - loss: 0.7295 - accuracy: 0.7478 - val_loss: 0.8194 - val_accuracy: 0.7281\n",
      "Epoch 25/50\n",
      "169/169 [==============================] - 3s 21ms/step - loss: 0.7080 - accuracy: 0.7541 - val_loss: 0.8293 - val_accuracy: 0.7111\n",
      "Epoch 26/50\n",
      "169/169 [==============================] - 3s 21ms/step - loss: 0.6962 - accuracy: 0.7595 - val_loss: 0.8196 - val_accuracy: 0.7170\n",
      "Epoch 27/50\n",
      "169/169 [==============================] - 4s 22ms/step - loss: 0.6876 - accuracy: 0.7515 - val_loss: 0.7996 - val_accuracy: 0.7193\n",
      "Epoch 28/50\n",
      "169/169 [==============================] - 4s 22ms/step - loss: 0.6798 - accuracy: 0.7623 - val_loss: 0.7824 - val_accuracy: 0.7178\n",
      "Epoch 29/50\n",
      "169/169 [==============================] - 4s 23ms/step - loss: 0.6542 - accuracy: 0.7662 - val_loss: 0.7843 - val_accuracy: 0.7200\n",
      "Epoch 30/50\n",
      "169/169 [==============================] - 4s 25ms/step - loss: 0.6356 - accuracy: 0.7752 - val_loss: 0.7985 - val_accuracy: 0.7215\n",
      "Epoch 31/50\n",
      "169/169 [==============================] - 4s 23ms/step - loss: 0.6197 - accuracy: 0.7843 - val_loss: 0.7848 - val_accuracy: 0.7356\n",
      "Epoch 32/50\n",
      "169/169 [==============================] - 4s 23ms/step - loss: 0.6193 - accuracy: 0.7788 - val_loss: 0.7910 - val_accuracy: 0.7304\n",
      "Epoch 33/50\n",
      "169/169 [==============================] - 4s 21ms/step - loss: 0.6033 - accuracy: 0.7927 - val_loss: 0.7710 - val_accuracy: 0.7281\n",
      "Epoch 34/50\n",
      "169/169 [==============================] - 4s 21ms/step - loss: 0.5820 - accuracy: 0.7956 - val_loss: 0.7593 - val_accuracy: 0.7430\n",
      "Epoch 35/50\n",
      "169/169 [==============================] - 3s 20ms/step - loss: 0.5820 - accuracy: 0.7984 - val_loss: 0.7687 - val_accuracy: 0.7385\n",
      "Epoch 36/50\n",
      "169/169 [==============================] - 4s 21ms/step - loss: 0.5703 - accuracy: 0.8042 - val_loss: 0.7440 - val_accuracy: 0.7519\n",
      "Epoch 37/50\n",
      "169/169 [==============================] - 3s 21ms/step - loss: 0.5631 - accuracy: 0.8014 - val_loss: 0.7740 - val_accuracy: 0.7319\n",
      "Epoch 38/50\n",
      "169/169 [==============================] - 3s 20ms/step - loss: 0.5511 - accuracy: 0.8040 - val_loss: 0.7668 - val_accuracy: 0.7407\n",
      "Epoch 39/50\n",
      "169/169 [==============================] - 3s 20ms/step - loss: 0.5439 - accuracy: 0.8060 - val_loss: 0.7415 - val_accuracy: 0.7526\n",
      "Epoch 40/50\n",
      "169/169 [==============================] - 3s 21ms/step - loss: 0.5361 - accuracy: 0.8088 - val_loss: 0.7469 - val_accuracy: 0.7489\n",
      "Epoch 41/50\n",
      "169/169 [==============================] - 3s 20ms/step - loss: 0.5149 - accuracy: 0.8262 - val_loss: 0.7308 - val_accuracy: 0.7459\n",
      "Epoch 42/50\n",
      "169/169 [==============================] - 4s 22ms/step - loss: 0.5009 - accuracy: 0.8223 - val_loss: 0.7481 - val_accuracy: 0.7519\n",
      "Epoch 43/50\n",
      "169/169 [==============================] - 4s 23ms/step - loss: 0.4888 - accuracy: 0.8229 - val_loss: 0.7697 - val_accuracy: 0.7430\n",
      "Epoch 44/50\n",
      "169/169 [==============================] - 4s 22ms/step - loss: 0.4911 - accuracy: 0.8293 - val_loss: 0.7271 - val_accuracy: 0.7563\n",
      "Epoch 45/50\n",
      "169/169 [==============================] - 3s 21ms/step - loss: 0.4830 - accuracy: 0.8340 - val_loss: 0.7656 - val_accuracy: 0.7400\n",
      "Epoch 46/50\n",
      "169/169 [==============================] - 3s 20ms/step - loss: 0.4560 - accuracy: 0.8477 - val_loss: 0.7840 - val_accuracy: 0.7341\n",
      "Epoch 47/50\n",
      "169/169 [==============================] - 3s 20ms/step - loss: 0.4477 - accuracy: 0.8473 - val_loss: 0.7536 - val_accuracy: 0.7444\n",
      "Epoch 48/50\n",
      "169/169 [==============================] - 3s 21ms/step - loss: 0.4456 - accuracy: 0.8449 - val_loss: 0.7467 - val_accuracy: 0.7415\n",
      "Epoch 49/50\n",
      "169/169 [==============================] - 3s 20ms/step - loss: 0.4349 - accuracy: 0.8579 - val_loss: 0.7379 - val_accuracy: 0.7548\n",
      "Epoch 50/50\n",
      "169/169 [==============================] - 4s 21ms/step - loss: 0.4545 - accuracy: 0.8379 - val_loss: 0.7636 - val_accuracy: 0.7430\n"
     ]
    }
   ],
   "source": [
    "history = model_cnn.fit(X_train, y_train, validation_data=(X_validation, y_validation), batch_size=32, epochs=50)"
   ]
  },
  {
   "cell_type": "code",
   "execution_count": 25,
   "id": "07283d4c",
   "metadata": {},
   "outputs": [
    {
     "data": {
      "image/png": "[encoded data removed]",
      "text/plain": [
       "<Figure size 432x288 with 2 Axes>"
      ]
     },
     "metadata": {
      "needs_background": "light"
     },
     "output_type": "display_data"
    }
   ],
   "source": [
    "plot_history(history)"
   ]
  },
  {
   "cell_type": "code",
   "execution_count": 26,
   "id": "4859fa40",
   "metadata": {},
   "outputs": [
    {
     "name": "stdout",
     "output_type": "stream",
     "text": [
      "71/71 [==============================] - 0s 4ms/step - loss: 0.7577 - accuracy: 0.7390\n",
      "\n",
      "Test accuracy: 0.7389951348304749\n"
     ]
    }
   ],
   "source": [
    "test_loss, test_acc = model_cnn.evaluate(X_test, y_test, verbose=1)\n",
    "print('\\nTest accuracy:', test_acc)"
   ]
  },
  {
   "cell_type": "code",
   "execution_count": 27,
   "id": "89ae1361",
   "metadata": {},
   "outputs": [],
   "source": [
    "model_cnn.save(\"Genre_Classifier.h5\")"
   ]
  },
  {
   "cell_type": "code",
   "execution_count": 42,
   "id": "25fed1c0",
   "metadata": {},
   "outputs": [
    {
     "name": "stdout",
     "output_type": "stream",
     "text": [
      "\n",
      "Real Genre     : 7\n",
      "Predicted Genre: 7\n",
      "\n",
      "Real Genre     : 1\n",
      "Predicted Genre: 1\n",
      "\n",
      "Real Genre     : 8\n",
      "Predicted Genre: 3\n",
      "\n",
      "Real Genre     : 1\n",
      "Predicted Genre: 1\n",
      "\n",
      "Real Genre     : 6\n",
      "Predicted Genre: 6\n",
      "\n",
      "Real Genre     : 1\n",
      "Predicted Genre: 1\n",
      "\n",
      "Real Genre     : 0\n",
      "Predicted Genre: 0\n",
      "\n",
      "Real Genre     : 5\n",
      "Predicted Genre: 5\n",
      "\n",
      "Real Genre     : 1\n",
      "Predicted Genre: 1\n",
      "\n",
      "Real Genre     : 2\n",
      "Predicted Genre: 2\n"
     ]
    }
   ],
   "source": [
    "for n in range(10):\n",
    "    i = random.randint(0,len(X_test))\n",
    "    \n",
    "    # pick a sample to predict from the test set\n",
    "    X_to_predict = X_test[i]\n",
    "    y_to_predict = y_test[i]\n",
    "    print(\"\\nReal Genre     :\", y_to_predict)\n",
    "    \n",
    "    X_to_predict = X_to_predict[np.newaxis, ...]\n",
    "    prediction   = model_cnn.predict(X_to_predict)\n",
    "    \n",
    "    # get index with max value\n",
    "    predicted_index = np.argmax(prediction, axis=1)\n",
    "    print(\"Predicted Genre:\", int(predicted_index))"
   ]
  },
  {
   "cell_type": "code",
   "execution_count": null,
   "id": "42aa88bb",
   "metadata": {},
   "outputs": [],
   "source": []
  }
 ],
 "metadata": {
  "kernelspec": {
   "display_name": "Python 3 (ipykernel)",
   "language": "python",
   "name": "python3"
  },
  "language_info": {
   "codemirror_mode": {
    "name": "ipython",
    "version": 3
   },
   "file_extension": ".py",
   "mimetype": "text/x-python",
   "name": "python",
   "nbconvert_exporter": "python",
   "pygments_lexer": "ipython3",
   "version": "3.7.10"
  }
 },
 "nbformat": 4,
 "nbformat_minor": 5
}
